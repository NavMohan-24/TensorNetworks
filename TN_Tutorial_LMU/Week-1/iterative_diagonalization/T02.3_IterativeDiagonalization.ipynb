{
 "cells": [
  {
   "cell_type": "markdown",
   "metadata": {},
   "source": [
    "## Iterative diagonalization\n",
    "\n",
    " Author: Changkai Zhang <https://chx-zh.cc> \\\n",
    " Email: changkai.zhang@physik.lmu.de\n",
    "\n",
    " Here we will study the *iterative diagonalization of a spin 1/2 XY chain*. \n",
    " Before starting; please review the following functions added to the code repository:\n",
    "\n",
    " * `getLocalSpace`: Generates the operators for a site of spin; spinless \n",
    " fermion; | spinful fermions.\n",
    " * `getIdentity`: Generates the identity operator for the Hilbert \n",
    " space of one leg; | for the product space of the spaces for two legs.\n",
    "\n",
    "Understand how to use these functions; & also how the functions generate/manipulate \n",
    " tensors. We will use these functions frequently in this & the following tutorials."
   ]
  },
  {
   "cell_type": "code",
   "execution_count": 3,
   "metadata": {},
   "outputs": [
    {
     "data": {
      "text/plain": [
       "updateLeft (generic function with 1 method)"
      ]
     },
     "metadata": {},
     "output_type": "display_data"
    }
   ],
   "source": [
    "include(\"../Tensor.jl\");\n",
    "#include(\"Tensor/getIdentity.jl\");"
   ]
  },
  {
   "cell_type": "markdown",
   "metadata": {},
   "source": [
    "### Spin 1/2 XY chain\n",
    "\n",
    " Consider the Hamiltonian of a tight-binding chain of non-interacting fermions \n",
    " of length $N$:\n",
    " \n",
    "$$ H_{XY} = - \\sum_{\\ell = 1}^{N-1} \\left( S^x_{\\ell+1} S^x_\\ell+ S^y_\\ell \n",
    "S^y_{\\ell+1} \\right) , $$\n",
    " \n",
    " where $S^{a}_\\ell$ are the spin operators at site $\\ell$. Local spin operators \n",
    " are given by $S^a = \\frac{1}{2} \\sigma^a$ where $\\sigma^a$ are Pauli matrices. \n",
    " They can be created by the function `getLocalSpace`:"
   ]
  },
  {
   "cell_type": "code",
   "execution_count": 2,
   "metadata": {},
   "outputs": [],
   "source": [
    "N = 2; # number of sites in the chain\n",
    "\n",
    "LSpace = getLocalSpace(\"Spin\",1/2); # create spin 1/2 operators"
   ]
  },
  {
   "cell_type": "markdown",
   "metadata": {},
   "source": [
    "The XY chain has an exact solution for the ground state [GS] energy\n",
    " \n",
    "$E_{\\mathrm{GS}} = \\frac{1}{2} - \\frac{1}{2\\sin\\left(\\frac{\\pi}{2(N+1)}\\right)}$.\n",
    "    "
   ]
  },
  {
   "cell_type": "markdown",
   "metadata": {},
   "source": [
    "### Exercise (a): Two sites\n",
    " Consider the case $N=2$ first. For that; form the product space of two spin \n",
    " 1/2 Hilbert spaces using `getIdentity`.\n",
    " \n",
    " [i] What does `getIdentity` do? Carefully read its documentation for that.\n",
    " \n",
    " [(ii)] Construct $S^{x}_{1}S^{x}_2$, using the output of `getIdentity` & \n",
    " `getLocalSpace`. Proceed as follows:\n",
    "\n",
    " * What tensors are required? Write them down with pen and paper & indicate \n",
    " their leg ordering.\n",
    " * In terms of the required tensors; write down the final object by connecting \n",
    " legs which are contracted.\n",
    " * Figure out the most efficient contraction pattern. Write down a tensor network \n",
    " diagram for every step; indicating leg ordering & computational complexity.\n",
    " * Implement your contraction pattern to finally construct $S^{x}_{1}S^{x}_2$.\n",
    "\n",
    "[(iii)] diagonalize $S^{x}_{1}S^{x}_2$ numerically. What eigenvalues do you \n",
    " expect? Do they match the numerical result?\n",
    " \n",
    "(iv) Construct $S^{y}_{1}S^{y}_2$, set up $H_{XY}$ & diagonalize it. Does \n",
    " the GS energy match the analytical result?\n",
    "                \n",
    "#### Quick tip: Hermitianize Hamiltonian\n",
    " The Hamiltonian should be \"Hermitianized\" before being diagonalized. As we \n",
    " all know; the Hamiltonian usually should be Hermitian; in principle. But in \n",
    " practice; the numerical representation of the Hamiltonian is susceptible to \n",
    " noise; so that it becomes slightly non-Hermitian. It will lead to complex-valued \n",
    " eigenvalues [which should be always real originally] & eigenvectors [which() \n",
    " should be real-valued for the real-valued Hamiltonians we consider in this tutorial]. \n",
    " They are not only wrong; but also a possible source of unnecessary computational \n",
    " overhead. To avoid this numerical noise; one can Hermitianize the Hamiltonian \n",
    " when it is diagonalized: for example, `eig((H+H')/2)`."
   ]
  },
  {
   "cell_type": "markdown",
   "metadata": {},
   "source": [
    "### Exercise (b): Iterative diagonalization of $N=100$ chain\n",
    " We will use the iterative diagonalization for the same Hamiltonian; but now() \n",
    " for a long chain. First; we introduce the key parameters for the iterative diagonalization."
   ]
  },
  {
   "cell_type": "markdown",
   "metadata": {},
   "source": [
    "N = 100; # maximum chain length()\n",
    "Nkeep = 300; # maximal number of states to keep\n",
    "tol = Nkeep*100*eps; # numerical tolerance for degeneracy"
   ]
  },
  {
   "cell_type": "markdown",
   "metadata": {},
   "source": [
    " *When we truncate the Hilbert space at each iteration; we need to keep all() \n",
    " the states whose energies are close to the truncation threshold*. The \"closeness\" \n",
    " is determined by the tolerance parameter `tol`; & we regard the states separated \n",
    " within this tolerance as being degenerate. The degeneracy often comes from physical \n",
    " symmetries; such as spin rotation symmetry in the $x$-$y$ plane. If we keep \n",
    " only the part of the degenerate states; then the Hilbert space will not respect \n",
    " the symmetry anymore. This artificial symmetry breaking can lead to qualitatively \n",
    " wrong result.\n",
    " \n",
    " Define the Hamiltonian `H0` & the ket tensor `A0` for the first chain site. \n",
    " The legs of `H0` & the third leg of `A0` are associated with the same Hilbert \n",
    " space. The left leg [i.e., first leg] of `A0` is a dummy leg which has trivial \n",
    " dimension 1. To generate such dummy leg; we use a number as the first input() \n",
    " to `getIdentity`. Note that it does not need to be 1; it can be any number; \n",
    " as long as it is 1-by-1 object."
   ]
  },
  {
   "cell_type": "code",
   "execution_count": 3,
   "metadata": {},
   "outputs": [],
   "source": [
    "H0 = LSpace.I; # Hamiltonian for only the 1st site\n",
    "A0 = getIdentity(1,2,LSpace.I,2); # 1st leg is dummy leg [vacuum]"
   ]
  },
  {
   "cell_type": "markdown",
   "metadata": {},
   "source": [
    " Starting from |H0|; iteratively diagonalize the $XY$ chain Hamiltonian. First; \n",
    " suppose you have iteratively diagonalized up to site $\\ell$ & want to add \n",
    " site $\\ell+1$. Using pen & paper; figure out the following tasks first:\n",
    " \n",
    " [i] To represent both $S^{x}_{\\ell}$ & $S^{y}_{\\ell}$ in the current basis, \n",
    " what tensors are needed?\n",
    " \n",
    " [ii] How do you need to contract them? Write down the tensor network diagrams \n",
    " indicating leg order & computational cost.\n",
    " \n",
    " [iii] What tensors do you need to represent $H_{\\ell}\\otimes\\mathbb{I}_{\\ell+1}$? \n",
    " Here $H_{\\ell}$ is the Hamiltonian up to site $\\ell$ represented in the current \n",
    " basis. Write down the diagrams to construct $H_{\\ell}\\otimes\\mathbb{I}_{\\ell+1}$, \n",
    " including index order & computational cost. \n",
    " \n",
    " [iv] Write down the diagrams for $S^{x}_{\\ell}S^{x}_{\\ell+1}$ & $S^{y}_{\\ell}S^{y}_{\\ell+1}$ \n",
    " indicating leg order & computational cost. Figure out the most efficient contraction \n",
    " pattern. What is the leading order?\n",
    " \n",
    " [v] write down $H_{\\ell+1}$\n",
    " \n",
    " (vi) Now, implement steps (i-v) within a for loop. After step {v}, implement \n",
    " the diagonalization of $H_{\\ell+1}$ & truncation of the basis. For now, only \n",
    " use |Nkeep| as truncation threshold & do not worry about |tol|. Compute the \n",
    " GS energy of the $N=100$ chain. How does it compare to the exact result?\n",
    " \n",
    " (vii) As a last step, keep all states which are degenerate with the highest \n",
    " energy state you keep; with tolerance for degeneracy given by |tol|. Does the \n",
    " GS energy change?"
   ]
  },
  {
   "cell_type": "markdown",
   "metadata": {},
   "source": [
    "### Exercise (c): Performance of iterative diagonalization versus chain length\n",
    " Assess the performance of iterative diagonalization with the chain length \n",
    " $N$. For that; plot the GS energy of from iterative diagonalization versus the \n",
    " exact GS energy for $N\\in(2,...,200)$. Also plot the error of the GS energy. \n",
    " Comment on what you observe."
   ]
  },
  {
   "cell_type": "markdown",
   "metadata": {},
   "source": [
    "### Exercise (d): Matrix product state from iterative diagonalization\n",
    " Get the MPS representation of the GS obtained by iterative diagonalization \n",
    " at $N=100$. \n",
    " \n",
    " [(i)] What tensors are needed? Write them down with pen and paper & then \n",
    " save them as a cell array.\n",
    " \n",
    " [ii] Is the GS MPS in a particular canonical form? If yes, which one? What \n",
    " isomety conditions do the MPS tensors fulfil?\n",
    " \n",
    " (iii) Check these isometry conditions explicitly using your numerical result \n",
    " from (i).\n",
    " \n",
    " (iv) Numerically compute the norm of the GS MPS. Is it normalized to 1?\n",
    "#### Brief remark\n",
    " We see that the result of this \"simple-minded\" approach is not that bad; at \n",
    " least for the given example. However; we also see the clear limitations:\n",
    "\n",
    " * It is hard to go to the thermodynamic limit [i.e., the limit of infinite \n",
    " system size]; since the system size under consideration increases one by one \n",
    " at each iteration.\n",
    " * The truncation error (i.e., error induced by truncating the Hilbert space) \n",
    " accumulates as one proceeds with the iterations.\n",
    " * It is hard to achieve higher accuracy. Larger `Nkeep` leads to better accuracy; \n",
    " but it also requires larger computational cost.\n",
    "\n",
    " Moreover; this simple-minded iterative diagonalization works badly for most \n",
    " of the systems of interacting particles. That's why; indeed; we learn the numerical \n",
    " renormalization group [NRG] & the density-matrix renormalization group [DMRG] \n",
    " from this course!"
   ]
  },
  {
   "cell_type": "markdown",
   "metadata": {},
   "source": [
    "### Optional: Exercise (e): Heisenberg spin chains\n",
    " *Use the iterative diagonalization to obtain the ground-state energy per site \n",
    " for the Heisenberg spin chains, for (i) spin-1/2\"s & [ii] spin-1\"s.* The Hamiltonian \n",
    " for the Heisenberg spin chain of length $N$ is given by:\n",
    " \n",
    "$$H = J \\sum_{\\ell = 1}^{N-1} \\hat{\\vec{S}}_\\ell \\cdot \\hat{\\vec{S}}_{\\ell \n",
    " + 1}$$\n",
    "\n",
    " Here we can set the coupling strength $J = 1$ without loss of generality. \n",
    " In the infinite chain limit [$N \\to \\infty$], the ground-state energy per site \n",
    " of the spin-1/2 chain is $(1/4)-\\log 2$ [Bethe ansatz result; see https://journals.aps.org/prl/abstract/10.1103/PhysRevLett.69.2863 \n",
    " S. R. White, Phys. Rev. Lett. *69*, 2863 [1992]], & that of the spin-1 chain \n",
    " is -1.401484039 [DMRG result; see https://journals.aps.org/prb/abstract/10.1103/PhysRevB.48.3844 \n",
    " S. R. White & D. A. Huse, Phys. Rev. B *48*, 3844 [1993]]. Compare your iterative \n",
    " diagonalization results for these infinite-limit values."
   ]
  }
 ],
 "metadata": {
  "kernelspec": {
   "display_name": "Julia 1.9.3",
   "language": "julia",
   "name": "julia-1.9"
  },
  "language_info": {
   "file_extension": ".jl",
   "mimetype": "application/julia",
   "name": "julia",
   "version": "1.9.3"
  }
 },
 "nbformat": 4,
 "nbformat_minor": 4
}
