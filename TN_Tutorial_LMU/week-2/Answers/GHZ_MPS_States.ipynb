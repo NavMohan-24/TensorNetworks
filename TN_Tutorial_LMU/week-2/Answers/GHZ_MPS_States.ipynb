{
 "cells": [
  {
   "cell_type": "code",
   "execution_count": 1,
   "metadata": {},
   "outputs": [
    {
     "data": {
      "text/plain": [
       "updateLeft (generic function with 1 method)"
      ]
     },
     "metadata": {},
     "output_type": "display_data"
    }
   ],
   "source": [
    "using LinearAlgebra\n",
    "using Printf\n",
    "include(\"../Tensor.jl\")"
   ]
  },
  {
   "cell_type": "code",
   "execution_count": 2,
   "metadata": {},
   "outputs": [],
   "source": [
    "# initializing |GHZN> state\n",
    "N = 10\n",
    "GHZN = zeros(2^N,1);\n",
    "GHZN[1] = 1/sqrt(2);\n",
    "GHZN[end] = 1/sqrt(2);"
   ]
  },
  {
   "cell_type": "markdown",
   "metadata": {},
   "source": [
    "## MPS form of GHZN state"
   ]
  },
  {
   "cell_type": "code",
   "execution_count": 3,
   "metadata": {},
   "outputs": [],
   "source": [
    "# my code\n",
    "M = reshape(GHZN*sqrt(2),(2,2^(N-1))); # first site\n",
    "GHZ_mps = Array{Any}(undef,1,N);\n",
    "\n",
    "for itN in 1:N\n",
    "    if itN < N\n",
    "        U,S,Vt,dw = svdTr(M,2,[1],[],[])\n",
    "        if itN == 1\n",
    "            GHZ_mps[itN] = reshape(U,(1,2,2))\n",
    "        else\n",
    "            GHZ_mps[itN] = reshape(U,(2,2,2))\n",
    "        end\n",
    "        M = contract(diagm(S),2,2,Vt,2,1)\n",
    "        M = reshape(M,2^2,2^(N-(itN+1)))\n",
    "    else\n",
    "        GHZ_mps[itN] = reshape(M,(2,2,1))\n",
    "    end\n",
    "end"
   ]
  },
  {
   "cell_type": "code",
   "execution_count": 4,
   "metadata": {},
   "outputs": [
    {
     "name": "stdout",
     "output_type": "stream",
     "text": [
      "error 1 : 0.0000e+00\n",
      "error 2 : 0.0000e+00\n",
      "error 3 : 0.0000e+00\n",
      "error 4 : 0.0000e+00\n",
      "error 5 : 0.0000e+00\n",
      "error 6 : 0.0000e+00\n",
      "error 7 : 0.0000e+00\n",
      "error 8 : 0.0000e+00\n",
      "error 9 : 0.0000e+00\n",
      "error 10 : 2.2204e-16\n"
     ]
    }
   ],
   "source": [
    "# verification\n",
    "\n",
    "M_N  = GHZ_mps[N]/sqrt(2) # left canonical\n",
    "\n",
    "for itN in 1:N\n",
    "    if itN < N\n",
    "        MM = contract(GHZ_mps[itN],3,[1,2],conj(GHZ_mps[itN]),3,[1,2])\n",
    "    else\n",
    "        MM = contract(M_N,3,[1,2],conj(M_N),3,[1,2])\n",
    "    end\n",
    "    Id = I(size(MM,1))\n",
    "    err = norm(MM-Id)\n",
    "    @printf(\"error %d : %.4e\\n\", itN, err)\n",
    "end"
   ]
  },
  {
   "cell_type": "code",
   "execution_count": 5,
   "metadata": {},
   "outputs": [
    {
     "name": "stdout",
     "output_type": "stream",
     "text": [
      "error 1 : 2.2204e-16\n",
      "error 2 : 0.0000e+00\n",
      "error 3 : 0.0000e+00\n",
      "error 4 : 0.0000e+00\n",
      "error 5 : 0.0000e+00\n",
      "error 6 : 0.0000e+00\n",
      "error 7 : 0.0000e+00\n",
      "error 8 : 0.0000e+00\n",
      "error 9 : 0.0000e+00\n",
      "error 10 : 0.0000e+00\n"
     ]
    }
   ],
   "source": [
    "M_1 = GHZ_mps[1]/sqrt(2) # right canonical\n",
    "\n",
    "for itN in 1:N\n",
    "    if itN > 1\n",
    "        MM = contract(GHZ_mps[itN],3,[2,3],conj(GHZ_mps[itN]),3,[2,3])\n",
    "    else\n",
    "        MM = contract(M_1,3,[2,3],conj(M_1),3,[2,3])\n",
    "    end\n",
    "    Id = I(size(MM,1))\n",
    "    err = norm(MM-Id)\n",
    "    @printf(\"error %d : %.4e\\n\", itN, err)\n",
    "end"
   ]
  },
  {
   "cell_type": "markdown",
   "metadata": {},
   "source": [
    "### Effect of some discarding singular values"
   ]
  },
  {
   "cell_type": "code",
   "execution_count": 6,
   "metadata": {},
   "outputs": [
    {
     "name": "stdout",
     "output_type": "stream",
     "text": [
      "discarded weight of the SVD on site 1: 0.000000\n",
      "discarded weight of the SVD on site 2: 0.000000\n",
      "discarded weight of the SVD on site 3: 0.000000\n",
      "discarded weight of the SVD on site 4: 0.000000\n",
      "discarded weight of the SVD on site 5: 0.000000\n",
      "discarded weight of the SVD on site 6: 0.000000\n",
      "discarded weight of the SVD on site 7: 0.000000\n",
      "discarded weight of the SVD on site 8: 0.000000\n",
      "discarded weight of the SVD on site 9: 0.000000\n"
     ]
    }
   ],
   "source": [
    "Nkeep = 2 # keeping only 2 largest singular values\n",
    "dw_set = zeros(N-1,1)\n",
    "\n",
    "M = reshape(GHZN*sqrt(2),(2,2^(N-1))); # first site\n",
    "GHZ_mps = Array{Any}(undef,1,N);\n",
    "\n",
    "for itN in 1:N\n",
    "    if itN < N\n",
    "        U,S,Vt,dw = svdTr(M,2,[1],Nkeep,[])\n",
    "        dw_set[itN] = dw\n",
    "        @printf(\"discarded weight of the SVD on site %d: %f\\n\",itN ,dw_set[itN])\n",
    "        if itN == 1\n",
    "            GHZ_mps[itN] = reshape(U,(1,2,2))\n",
    "        else\n",
    "            GHZ_mps[itN] = reshape(U,(2,2,2))\n",
    "        end\n",
    "        M = contract(diagm(S),2,2,Vt,2,1)\n",
    "        M = reshape(M,2^2,2^(N-(itN+1)))\n",
    "    else\n",
    "        GHZ_mps[itN] = reshape(M,(2,2,1))\n",
    "    end\n",
    "end"
   ]
  },
  {
   "cell_type": "markdown",
   "metadata": {},
   "source": [
    "Bond dimension D for GHZ states = 2, thus the discarderd weights = 0 for every site if we are keeping two singular values."
   ]
  },
  {
   "cell_type": "code",
   "execution_count": 7,
   "metadata": {},
   "outputs": [
    {
     "name": "stdout",
     "output_type": "stream",
     "text": [
      "discarded weight of the SVD on site 1: 1.000000\n"
     ]
    },
    {
     "ename": "DimensionMismatch",
     "evalue": "DimensionMismatch: new dimensions (1, 2, 2) must be consistent with array size 2",
     "output_type": "error",
     "traceback": [
      "DimensionMismatch: new dimensions (1, 2, 2) must be consistent with array size 2\n",
      "\n",
      "Stacktrace:\n",
      " [1] (::Base.var\"#throw_dmrsa#328\")(dims::Tuple{Int64, Int64, Int64}, len::Int64)\n",
      "   @ Base .\\reshapedarray.jl:41\n",
      " [2] reshape(a::Matrix{Float64}, dims::Tuple{Int64, Int64, Int64})\n",
      "   @ Base .\\reshapedarray.jl:45\n",
      " [3] top-level scope\n",
      "   @ c:\\Users\\navan\\Desktop\\Tensor Networks\\Tensor Network 22\\TN_Tutorials_2022\\TN_Tutorials_2022\\E03SvdMpoDiagonalizationFermionChain-Sol-jl\\GHZ_MPS_States.ipynb:13"
     ]
    }
   ],
   "source": [
    "Nkeep = 1 # keeping only 2 largest singular values\n",
    "dw_set = zeros(N-1,1)\n",
    "\n",
    "M = reshape(GHZN*sqrt(2),(2,2^(N-1))); # first site\n",
    "GHZ_mps = Array{Any}(undef,1,N);\n",
    "\n",
    "for itN in 1:N\n",
    "    if itN < N\n",
    "        U,S,Vt,dw = svdTr(M,2,[1],Nkeep,[])\n",
    "        dw_set[itN] = dw\n",
    "        @printf(\"discarded weight of the SVD on site %d: %f\\n\",itN ,dw_set[itN])\n",
    "        if itN == 1\n",
    "            GHZ_mps[itN] = reshape(U,(1,2,2))\n",
    "        else\n",
    "            GHZ_mps[itN] = reshape(U,(2,2,2))\n",
    "        end\n",
    "        M = contract(diagm(S),2,2,Vt,2,1)\n",
    "        M = reshape(M,2^2,2^(N-(itN+1)))\n",
    "    else\n",
    "        GHZ_mps[itN] = reshape(M,(2,2,1))\n",
    "    end\n",
    "end"
   ]
  },
  {
   "cell_type": "markdown",
   "metadata": {},
   "source": [
    "The code breaks when we use Nkeep. It is because, we are hardcoding the MPS tensor dimension. In order to truncate, we need to change the dimension of MPS tensor according to the bond dimension. This can be done by modifying the code in the following manner."
   ]
  },
  {
   "cell_type": "code",
   "execution_count": 8,
   "metadata": {},
   "outputs": [
    {
     "data": {
      "text/plain": [
       "2×2×1 Array{Float64, 3}:\n",
       "[:, :, 1] =\n",
       " 1.0   0.0\n",
       " 0.0  -1.0"
      ]
     },
     "metadata": {},
     "output_type": "display_data"
    }
   ],
   "source": [
    "## Generalize code for MPS creation\n",
    "\n",
    "M = reshape(GHZN*sqrt(2),(1,2,2^(N-1))); # first site\n",
    "GHZ_mps = Array{Any}(undef,1,N);\n",
    "for itN in 1:N-1\n",
    "    global M\n",
    "    U,S,Vt,dw = svdTr(M,3,[1,2],[],[])\n",
    "    GHZ_mps[itN] = U\n",
    "    M = contract(diagm(S),2,2,Vt,2,1)\n",
    "    M = reshape(M,(size(M,1),2,Int32(size(M,2)/2))) # dividing by 2 since we are reshaping \n",
    "    # we are splitting both virtual and physical indices.\n",
    "end\n",
    "GHZ_mps[end] = M"
   ]
  },
  {
   "cell_type": "markdown",
   "metadata": {},
   "source": [
    "### Checking the case of Nkeep=1"
   ]
  },
  {
   "cell_type": "code",
   "execution_count": 9,
   "metadata": {},
   "outputs": [
    {
     "name": "stdout",
     "output_type": "stream",
     "text": [
      "discarded weight of the SVD on site 1: 1.000000\n",
      "discarded weight of the SVD on site 2: 0.000000\n",
      "discarded weight of the SVD on site 3: 0.000000\n",
      "discarded weight of the SVD on site 4: 0.000000\n",
      "discarded weight of the SVD on site 5: 0.000000\n",
      "discarded weight of the SVD on site 6: 0.000000\n",
      "discarded weight of the SVD on site 7: 0.000000\n",
      "discarded weight of the SVD on site 8: 0.000000\n",
      "discarded weight of the SVD on site 9: 0.000000\n"
     ]
    },
    {
     "data": {
      "text/plain": [
       "1×2×1 Array{Float64, 3}:\n",
       "[:, :, 1] =\n",
       " 1.0  0.0"
      ]
     },
     "metadata": {},
     "output_type": "display_data"
    }
   ],
   "source": [
    "# Nkeep = 1\n",
    "Nkeep = 1 # keeping only 2 largest singular values\n",
    "dw_set = zeros(N-1,1)\n",
    "\n",
    "M = reshape(GHZN*sqrt(2),(1,2,2^(N-1))); # first site\n",
    "GHZ_mps = Array{Any}(undef,1,N);\n",
    "for itN in 1:N-1\n",
    "    global M\n",
    "    U,S,Vt,dw = svdTr(M,3,[1,2],Nkeep,[]);\n",
    "    dw_set[itN] = dw;\n",
    "    @printf(\"discarded weight of the SVD on site %d: %f\\n\",itN ,dw_set[itN]);\n",
    "    GHZ_mps[itN] = U;\n",
    "    M = contract(diagm(S),2,2,Vt,2,1);\n",
    "    M = reshape(M,(size(M,1),2,Int32(size(M,2)/2))); # dividing by 2 since we are reshaping \n",
    "    # we are splitting both virtual and physical indices.\n",
    "end\n",
    "GHZ_mps[end] = M;\n",
    "\n",
    "\n"
   ]
  },
  {
   "cell_type": "markdown",
   "metadata": {},
   "source": [
    "for Nkeep=1, some discarded weight(s) are nonzero."
   ]
  },
  {
   "cell_type": "code",
   "execution_count": 10,
   "metadata": {},
   "outputs": [],
   "source": []
  }
 ],
 "metadata": {
  "kernelspec": {
   "display_name": "Julia 1.10.0",
   "language": "julia",
   "name": "julia-1.10"
  },
  "language_info": {
   "file_extension": ".jl",
   "mimetype": "application/julia",
   "name": "julia",
   "version": "1.10.0"
  }
 },
 "nbformat": 4,
 "nbformat_minor": 2
}
