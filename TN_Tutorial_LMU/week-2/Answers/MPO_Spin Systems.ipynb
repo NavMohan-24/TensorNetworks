{
 "cells": [
  {
   "cell_type": "code",
   "execution_count": 1,
   "metadata": {},
   "outputs": [
    {
     "data": {
      "text/plain": [
       "updateLeft (generic function with 1 method)"
      ]
     },
     "metadata": {},
     "output_type": "display_data"
    }
   ],
   "source": [
    "using LinearAlgebra\n",
    "include(\"../../Tensor.jl\")"
   ]
  },
  {
   "cell_type": "markdown",
   "metadata": {},
   "source": [
    "## Ising Model"
   ]
  },
  {
   "cell_type": "code",
   "execution_count": 2,
   "metadata": {},
   "outputs": [
    {
     "data": {
      "text/plain": [
       "16×16 Matrix{Float64}:\n",
       " 0.75  0.0    0.0   0.0    0.0    0.0   …   0.0   0.0    0.0   0.0    0.0\n",
       " 0.0   0.25   0.0   0.0    0.0    0.0       0.0   0.0    0.0   0.0    0.0\n",
       " 0.0   0.0   -0.25  0.0    0.0    0.0       0.0   0.0    0.0   0.0    0.0\n",
       " 0.0   0.0    0.0   0.25   0.0    0.0       0.0   0.0    0.0   0.0    0.0\n",
       " 0.0   0.0    0.0   0.0   -0.25   0.0       0.0   0.0    0.0   0.0    0.0\n",
       " 0.0   0.0    0.0   0.0    0.0   -0.75  …   0.0   0.0    0.0   0.0    0.0\n",
       " 0.0   0.0    0.0   0.0    0.0    0.0       0.0   0.0    0.0   0.0    0.0\n",
       " 0.0   0.0    0.0   0.0    0.0    0.0       0.0   0.0    0.0   0.0   -0.0\n",
       " 0.0   0.0    0.0   0.0    0.0    0.0       0.0   0.0    0.0   0.0    0.0\n",
       " 0.0   0.0    0.0   0.0    0.0    0.0       0.0   0.0    0.0   0.0    0.0\n",
       " 0.0   0.0    0.0   0.0    0.0    0.0   …   0.0   0.0    0.0   0.0    0.0\n",
       " 0.0   0.0    0.0   0.0    0.0    0.0      -0.25  0.0    0.0   0.0   -0.0\n",
       " 0.0   0.0    0.0   0.0    0.0    0.0       0.0   0.25   0.0   0.0    0.0\n",
       " 0.0   0.0    0.0   0.0    0.0    0.0       0.0   0.0   -0.25  0.0    0.0\n",
       " 0.0   0.0    0.0   0.0    0.0    0.0       0.0   0.0    0.0   0.25   0.0\n",
       " 0.0   0.0    0.0   0.0    0.0    0.0   …  -0.0   0.0    0.0   0.0    0.75"
      ]
     },
     "metadata": {},
     "output_type": "display_data"
    }
   ],
   "source": [
    "# Ising Hamiltonian- 4 Spins with Open Boundary Condition\n",
    "\n",
    "J=1\n",
    "L=4\n",
    "Id = I(2);\n",
    "Sz = [1 0;0 -1]/2;\n",
    "\n",
    "# matrix form of the Ising Hamiltonian\n",
    "H = J*(kron(Id,Id,Sz,Sz)+kron(Id,Sz,Sz,Id)+kron(Sz,Sz,Id,Id));\n",
    "H = convert(Matrix{Float64},H)"
   ]
  },
  {
   "attachments": {
    "image.png": {
     "image/png": "[encoded data removed]"
    }
   },
   "cell_type": "markdown",
   "metadata": {},
   "source": [
    "**MPO of the Ising Hamiltonian for site 'l' is given by:**\n",
    "\n",
    "![image.png](attachment:image.png)\n",
    "\n",
    "\n",
    "**MPO of the first site is given by the last row and last site is given by the first column.**"
   ]
  },
  {
   "cell_type": "code",
   "execution_count": 4,
   "metadata": {},
   "outputs": [],
   "source": [
    "# MPO construction for 4 Spin Ising Chain\n",
    "\n",
    "Ws = Array{Any}(undef,1,L); # defining an array to hold each MPO tensor\n",
    "# first site tensor\n",
    "Ws[1]=zeros(1,2,3,2);\n",
    "Ws[1][1,:,2,:] = J*Sz;\n",
    "Ws[1][1,:,3,:] = Id;\n",
    "\n",
    "# MPO for site 2 to L-1\n",
    "for itw in (2:L-1)\n",
    "    Ws[itw] = zeros(3,2,3,2);\n",
    "    Ws[itw][1,:,1,:] = Id;\n",
    "    Ws[itw][2,:,1,:] = Sz;\n",
    "    Ws[itw][3,:,2,:] = J*Sz;\n",
    "    Ws[itw][3,:,3,:] = Id;\n",
    "end\n",
    "\n",
    "# MPO tensor for last site\n",
    "Ws[end] = zeros(3,2,1,2);\n",
    "Ws[end][1,:,1,:] = Id;\n",
    "Ws[end][2,:,1,:] = Sz;"
   ]
  },
  {
   "cell_type": "code",
   "execution_count": 5,
   "metadata": {},
   "outputs": [
    {
     "data": {
      "text/plain": [
       "16×16 Matrix{Float64}:\n",
       " 0.75  0.0    0.0   0.0    0.0    0.0   …   0.0   0.0    0.0   0.0   0.0\n",
       " 0.0   0.25   0.0   0.0    0.0    0.0       0.0   0.0    0.0   0.0   0.0\n",
       " 0.0   0.0   -0.25  0.0    0.0    0.0       0.0   0.0    0.0   0.0   0.0\n",
       " 0.0   0.0    0.0   0.25   0.0    0.0       0.0   0.0    0.0   0.0   0.0\n",
       " 0.0   0.0    0.0   0.0   -0.25   0.0       0.0   0.0    0.0   0.0   0.0\n",
       " 0.0   0.0    0.0   0.0    0.0   -0.75  …   0.0   0.0    0.0   0.0   0.0\n",
       " 0.0   0.0    0.0   0.0    0.0    0.0       0.0   0.0    0.0   0.0   0.0\n",
       " 0.0   0.0    0.0   0.0    0.0    0.0       0.0   0.0    0.0   0.0   0.0\n",
       " 0.0   0.0    0.0   0.0    0.0    0.0       0.0   0.0    0.0   0.0   0.0\n",
       " 0.0   0.0    0.0   0.0    0.0    0.0       0.0   0.0    0.0   0.0   0.0\n",
       " 0.0   0.0    0.0   0.0    0.0    0.0   …   0.0   0.0    0.0   0.0   0.0\n",
       " 0.0   0.0    0.0   0.0    0.0    0.0      -0.25  0.0    0.0   0.0   0.0\n",
       " 0.0   0.0    0.0   0.0    0.0    0.0       0.0   0.25   0.0   0.0   0.0\n",
       " 0.0   0.0    0.0   0.0    0.0    0.0       0.0   0.0   -0.25  0.0   0.0\n",
       " 0.0   0.0    0.0   0.0    0.0    0.0       0.0   0.0    0.0   0.25  0.0\n",
       " 0.0   0.0    0.0   0.0    0.0    0.0   …   0.0   0.0    0.0   0.0   0.75"
      ]
     },
     "metadata": {},
     "output_type": "display_data"
    }
   ],
   "source": [
    "# Reconstruction of Hamiltonian from MPO\n",
    "\n",
    "M = Ws[1]\n",
    "for itw in 2:L\n",
    "    M = contract(M,4,3,Ws[itw],4,1);\n",
    "    M = permutedims(M,(1,2,4,5,3,6));\n",
    "    if itw < L\n",
    "        M = reshape(M,(1,2^itw,3,2^itw));\n",
    "    end\n",
    "end\n",
    "\n",
    "recon_H = reshape(M,(2^L,2^L))"
   ]
  },
  {
   "cell_type": "code",
   "execution_count": 6,
   "metadata": {},
   "outputs": [
    {
     "data": {
      "text/plain": [
       "true"
      ]
     },
     "metadata": {},
     "output_type": "display_data"
    }
   ],
   "source": [
    "isapprox(H,recon_H, atol=1e-8) # verfication"
   ]
  },
  {
   "cell_type": "markdown",
   "metadata": {},
   "source": [
    "## Exponentially Decaying Long Range Interaction in Ising Model"
   ]
  },
  {
   "cell_type": "code",
   "execution_count": null,
   "metadata": {},
   "outputs": [],
   "source": [
    "## Solution for exponential long-range interaction\n",
    "\n",
    "J=1\n",
    "L=6\n",
    "Id = I(2);\n",
    "Sz = [1 0;0 -1]/2;\n",
    "lambda = 1\n",
    "\n",
    "Ws = Array{Any}(undef,1,L)\n",
    "Ws[1]=zeros(1,2,3,2)\n",
    "Ws[1][1,:,2,:] = -exp(-lambda)*Sz\n",
    "Ws[1][1,:,3,:] = Id;\n",
    "\n",
    "for itw in (2:L-1)\n",
    "    Ws[itw] = zeros(3,2,3,2)\n",
    "    Ws[itw][1,:,1,:] = Id\n",
    "    Ws[itw][2,:,1,:] = Sz\n",
    "    Ws[itw][2,:,2,:] = exp(lambda)*Id\n",
    "    Ws[itw][3,:,2,:] = -exp(lambda)*Sz\n",
    "    Ws[itw][3,:,3,:] = Id\n",
    "end\n",
    "\n",
    "Ws[end] = zeros(3,2,1,2)\n",
    "Ws[end][1,:,1,:] = Id\n",
    "Ws[end][2,:,1,:] = Sz;\n",
    "\n",
    "M = Ws[1]\n",
    "for itw in 2:L\n",
    "    M = contract(M,4,3,Ws[itw],4,1)\n",
    "    M = permutedims(M,(1,2,4,5,3,6))\n",
    "    if itw < L\n",
    "        M = reshape(M,(1,2^itw,3,2^itw))\n",
    "    \n",
    "    end\n",
    "end\n",
    "\n",
    "H_MPO = reshape(M,(2^L,2^L))"
   ]
  },
  {
   "cell_type": "code",
   "execution_count": null,
   "metadata": {},
   "outputs": [],
   "source": []
  },
  {
   "cell_type": "code",
   "execution_count": null,
   "metadata": {},
   "outputs": [],
   "source": []
  }
 ],
 "metadata": {
  "kernelspec": {
   "display_name": "Julia 1.10.0",
   "language": "julia",
   "name": "julia-1.10"
  },
  "language_info": {
   "file_extension": ".jl",
   "mimetype": "application/julia",
   "name": "julia",
   "version": "1.10.0"
  }
 },
 "nbformat": 4,
 "nbformat_minor": 2
}
